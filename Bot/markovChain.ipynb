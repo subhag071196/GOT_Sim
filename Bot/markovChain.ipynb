{
 "cells": [
  {
   "cell_type": "code",
   "execution_count": 1,
   "metadata": {},
   "outputs": [],
   "source": [
    "import numpy as np\n",
    "characters = open('jon2.txt',encoding='utf8').read()"
   ]
  },
  {
   "cell_type": "code",
   "execution_count": 2,
   "metadata": {},
   "outputs": [],
   "source": [
    "corpus = characters.split()"
   ]
  },
  {
   "cell_type": "code",
   "execution_count": 3,
   "metadata": {},
   "outputs": [],
   "source": [
    "def make_pairs(corpus):\n",
    "    for i in range(len(corpus)-1):\n",
    "        yield(corpus[i],corpus[i+1])\n",
    "\n",
    "def make_triples(corpus):\n",
    "    for i in range(len(corpus)-2):\n",
    "        yield(corpus[i],corpus[i+1],corpus[i+2])"
   ]
  },
  {
   "cell_type": "code",
   "execution_count": 4,
   "metadata": {},
   "outputs": [],
   "source": [
    "pairs = make_pairs(corpus)"
   ]
  },
  {
   "cell_type": "code",
   "execution_count": 5,
   "metadata": {},
   "outputs": [],
   "source": [
    "triples = make_triples(corpus)"
   ]
  },
  {
   "cell_type": "code",
   "execution_count": 6,
   "metadata": {},
   "outputs": [],
   "source": [
    "word_dict = {}\n",
    "\n",
    "for word1, word2 in pairs:\n",
    "    if word1 in word_dict.keys():\n",
    "        word_dict[word1].append([word2])\n",
    "    else:\n",
    "        word_dict[word1] = [word2]\n"
   ]
  },
  {
   "cell_type": "code",
   "execution_count": 7,
   "metadata": {},
   "outputs": [],
   "source": [
    "word_dict3 = {}\n",
    "\n",
    "for word_1, word_2, word_3 in triples:\n",
    "    if (word_1,word_2) in word_dict3.keys():\n",
    "        word_dict3[(word_1,word_2)].append([word_3])\n",
    "    else:\n",
    "        word_dict3[(word_1,word_2)] = [word_3]\n"
   ]
  },
  {
   "cell_type": "code",
   "execution_count": null,
   "metadata": {},
   "outputs": [],
   "source": []
  },
  {
   "cell_type": "code",
   "execution_count": 112,
   "metadata": {},
   "outputs": [],
   "source": [
    "def generateChain(name,num):\n",
    "    n_words = num\n",
    "    chain = (name,word_dict[name][np.random.choice(len(word_dict[name]))][0])\n",
    "    sentence = [[chain[0]],[chain[1]]]\n",
    "    x = ''\n",
    "    for i in range(n_words):\n",
    "        last = sentence[-1]\n",
    "        second_last = sentence[-2]\n",
    "        if (second_last[0],last[0]) in word_dict3.keys():\n",
    "            sentence.append(word_dict3[(second_last[0],last[0])][np.random.choice(len(word_dict3[(second_last[0],last[0])]))])\n",
    "        else:\n",
    "            i = i-1\n",
    "\n",
    "    started = False\n",
    "    \n",
    "    for i in range(len(sentence)):\n",
    "        if (sentence[i][0] == 'JAIME:' or sentence[i][0] == 'ARYA:' or sentence[i][0] == 'TYRION:' or sentence[i][0] == 'JON:' or sentence[i][0] == 'CERSEI:'):\n",
    "            if started == True:\n",
    "                continue\n",
    "            else:\n",
    "                started = True\n",
    "        if sentence[i][0] != 'I' and len(sentence[i][0]) == 1:\n",
    "            x = x + '.'\n",
    "        else:\n",
    "            x = x + ' ' + sentence[i][0]\n",
    "        if x[-1] == '.' or x[-1] == '?':\n",
    "            break\n",
    "    print(x+'\\n')"
   ]
  },
  {
   "cell_type": "code",
   "execution_count": 155,
   "metadata": {},
   "outputs": [
    {
     "name": "stdout",
     "output_type": "stream",
     "text": [
      " TYRION: Dragons are right Why no name you for his constant prattling about\n",
      "\n",
      " JAIME: You’re.\n",
      "\n",
      " TYRION: She was the grain, the Crown as much as soon as much as\n",
      "\n",
      " JAIME: Well, it off all this war all of the Night’s Watch I executed\n",
      "\n",
      " TYRION: I want to drink because it for guidance now you scared I'll stop\n",
      "\n",
      " JAIME: I want you for attack, we win this war upon that every mutineer\n",
      "\n",
      " TYRION: I received this war all of the Night's Watch.\n",
      "\n",
      " JAIME: Should we all fell in this world.\n",
      "\n"
     ]
    }
   ],
   "source": [
    "for i in range(4):\n",
    "    generateChain('TYRION:',12)\n",
    "    generateChain('JAIME:',12)"
   ]
  },
  {
   "cell_type": "code",
   "execution_count": null,
   "metadata": {},
   "outputs": [],
   "source": []
  },
  {
   "cell_type": "code",
   "execution_count": null,
   "metadata": {},
   "outputs": [],
   "source": []
  }
 ],
 "metadata": {
  "kernelspec": {
   "display_name": "Python 3",
   "language": "python",
   "name": "python3"
  },
  "language_info": {
   "codemirror_mode": {
    "name": "ipython",
    "version": 3
   },
   "file_extension": ".py",
   "mimetype": "text/x-python",
   "name": "python",
   "nbconvert_exporter": "python",
   "pygments_lexer": "ipython3",
   "version": "3.6.5"
  }
 },
 "nbformat": 4,
 "nbformat_minor": 2
}
