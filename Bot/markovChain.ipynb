{
 "cells": [
  {
   "cell_type": "code",
   "execution_count": 499,
   "metadata": {},
   "outputs": [],
   "source": [
    "import numpy as np\n",
    "characters = open('jon2.txt',encoding='utf8').read()"
   ]
  },
  {
   "cell_type": "code",
   "execution_count": 500,
   "metadata": {},
   "outputs": [],
   "source": [
    "corpus = characters.split()"
   ]
  },
  {
   "cell_type": "code",
   "execution_count": 503,
   "metadata": {},
   "outputs": [],
   "source": [
    "def make_pairs(corpus):\n",
    "    for i in range(len(corpus)-1):\n",
    "        yield(corpus[i],corpus[i+1])\n",
    "\n",
    "def make_triples(corpus):\n",
    "    for i in range(len(corpus)-2):\n",
    "        yield(corpus[i],corpus[i+1],corpus[i+2])"
   ]
  },
  {
   "cell_type": "code",
   "execution_count": 504,
   "metadata": {},
   "outputs": [],
   "source": [
    "pairs = make_pairs(corpus)"
   ]
  },
  {
   "cell_type": "code",
   "execution_count": 505,
   "metadata": {},
   "outputs": [],
   "source": [
    "triples = make_triples(corpus)"
   ]
  },
  {
   "cell_type": "code",
   "execution_count": 506,
   "metadata": {},
   "outputs": [],
   "source": [
    "word_dict = {}\n",
    "\n",
    "for word1, word2 in pairs:\n",
    "    if word1 in word_dict.keys():\n",
    "        word_dict[word1].append([word2])\n",
    "    else:\n",
    "        word_dict[word1] = [word2]\n"
   ]
  },
  {
   "cell_type": "code",
   "execution_count": 507,
   "metadata": {},
   "outputs": [],
   "source": [
    "word_dict3 = {}\n",
    "\n",
    "for word_1, word_2, word_3 in triples:\n",
    "    if word_2 == 'JON:' or word_2 == 'ARYA:' or word_2 == 'TYRION:' or word_2 == 'CERSEI:' or word_2 == 'JAIME:':\n",
    "        continue\n",
    "    if word_3 == 'JON:' or word_3 == 'ARYA:' or word_3 == 'TYRION:' or word_3 == 'CERSEI:' or word_3 == 'JAIME:':\n",
    "        continue\n",
    "    if (word_1,word_2) in word_dict3.keys():\n",
    "        word_dict3[(word_1,word_2)].append([word_3])\n",
    "    else:\n",
    "        word_dict3[(word_1,word_2)] = [word_3]\n"
   ]
  },
  {
   "cell_type": "code",
   "execution_count": null,
   "metadata": {},
   "outputs": [],
   "source": []
  },
  {
   "cell_type": "code",
   "execution_count": 510,
   "metadata": {},
   "outputs": [],
   "source": [
    "def generateChain(name,num):\n",
    "    n_words = num\n",
    "    chain = (name,word_dict[name][np.random.choice(len(word_dict[name]))][0])\n",
    "    sentence = [[chain[0]],[chain[1]]]\n",
    "    x = ''\n",
    "    for i in range(n_words):\n",
    "        last = sentence[-1]\n",
    "        second_last = sentence[-2]\n",
    "        if (second_last[0],last[0]) in word_dict3.keys():\n",
    "            sentence.append(word_dict3[(second_last[0],last[0])][np.random.choice(len(word_dict3[(second_last[0],last[0])]))])\n",
    "        else:\n",
    "            i = i-1\n",
    "\n",
    "    started = False\n",
    "    \n",
    "    for i in range(len(sentence)):\n",
    "        if sentence[i][0] == 'JON:' or sentence[i][0] == 'ARYA:' or sentence[i][0] == 'TYRION:' or sentence[i][0] == 'CERSEI:' or sentence[i][0] == 'JAIME:':\n",
    "            if started == False:\n",
    "                started = True\n",
    "            else:\n",
    "                break\n",
    "        x = x + ' ' + sentence[i][0]\n",
    "        if x[-1] == '.' or x[-1] == '?' or x[-1] == '!':\n",
    "            break\n",
    "    \n",
    "    print(x)"
   ]
  },
  {
   "cell_type": "code",
   "execution_count": 511,
   "metadata": {},
   "outputs": [
    {
     "name": "stdout",
     "output_type": "stream",
     "text": [
      " CERSEI: It would be the savior of the knee and I was doing what he won’t stay clear of the Seven Kingdoms rest in the Night's Watch.\n",
      "\n",
      "\n",
      " TYRION: I can't win a war if we all, unfortunately.\n",
      "\n",
      "\n",
      " CERSEI: There's a man of the Night's Watch I listened to you could have said no.\n",
      "\n",
      "\n",
      " TYRION: Well, he told me your claim against the dragons loose, tens of course you guys have the Tyrells have we turn the dragons Aegon used to help her to be doing was doing what I was Lord Commander of action, aren’t you?\n",
      "\n",
      "\n",
      " CERSEI: I will ferry the Dornish army now.\n",
      "\n",
      "\n",
      " TYRION: When I think you’ll find the Night's Watch can't defeat them are they know Daenerys Targaryen if I remember the largest army.\n",
      "\n",
      "\n",
      " CERSEI: My o\n",
      "\n",
      "\n",
      " TYRION: I was ready to drink myself into weapons.\n",
      "\n",
      "\n",
      " CERSEI: I'm sorry, I was doing and the wall was one who aren’t you?\n",
      "\n",
      "\n",
      " TYRION:\n",
      "\n",
      "\n"
     ]
    }
   ],
   "source": [
    "for i in range(5):\n",
    "    generateChain('CERSEI:',100)\n",
    "    print('\\n')\n",
    "    generateChain('TYRION:',100)\n",
    "    print('\\n')"
   ]
  },
  {
   "cell_type": "code",
   "execution_count": null,
   "metadata": {},
   "outputs": [],
   "source": []
  },
  {
   "cell_type": "code",
   "execution_count": null,
   "metadata": {},
   "outputs": [],
   "source": []
  },
  {
   "cell_type": "code",
   "execution_count": null,
   "metadata": {},
   "outputs": [],
   "source": []
  },
  {
   "cell_type": "code",
   "execution_count": null,
   "metadata": {},
   "outputs": [],
   "source": []
  }
 ],
 "metadata": {
  "kernelspec": {
   "display_name": "Python 3",
   "language": "python",
   "name": "python3"
  },
  "language_info": {
   "codemirror_mode": {
    "name": "ipython",
    "version": 3
   },
   "file_extension": ".py",
   "mimetype": "text/x-python",
   "name": "python",
   "nbconvert_exporter": "python",
   "pygments_lexer": "ipython3",
   "version": "3.6.5"
  }
 },
 "nbformat": 4,
 "nbformat_minor": 2
}
