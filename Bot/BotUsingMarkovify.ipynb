{
 "cells": [
  {
   "cell_type": "code",
   "execution_count": 178,
   "metadata": {},
   "outputs": [],
   "source": [
    "import markovify"
   ]
  },
  {
   "cell_type": "code",
   "execution_count": 189,
   "metadata": {},
   "outputs": [],
   "source": [
    "with open('jon2.txt') as f:\n",
    "    text = f.read()\n",
    "\n",
    "# Build the model.\n",
    "text_model = markovify.Text(text,state_size=4)\n",
    "\n",
    "# Print five randomly-generated sentences\n",
    "\n",
    "#Print three randomly-generated sentences of no more than 140 characters\n"
   ]
  },
  {
   "cell_type": "code",
   "execution_count": 204,
   "metadata": {},
   "outputs": [
    {
     "name": "stdout",
     "output_type": "stream",
     "text": [
      "JAIME: Our queen does rule the Tyrells have your ships, you have a trial for me.\n",
      "\n",
      "CERSEI: I was Lord Commander of the Night's Watch can't shoot it or two.\n",
      "\n",
      "JAIME: I’m not well-suited for it, nevermind the Tyrells have the world.\n",
      "\n",
      "CERSEI: That has an idea like to speak to you standing right now?\n",
      "\n",
      "JAIME: Those two have their eyes on the field of battle.\n",
      "\n",
      "JAIME: Oh, I look to get it felt good to recover some adventures, though.\n",
      "\n",
      "CERSEI: An unacceptable way to mine it, we need your people who aren’t you?\n",
      "\n",
      "CERSEI: That's a man like a bell.\n",
      "\n",
      "JAIME: Cersei is the Lannisters are thousands of a man like my niece.\n",
      "\n",
      "CERSEI: Uncle, it’s quite recently, I was doing what Father used to kill.\n",
      "\n"
     ]
    }
   ],
   "source": [
    "for i in range(40):\n",
    "    t = text_model.make_short_sentence(min_chars=20,max_chars=80)\n",
    "    if t:\n",
    "         if(t[0:6] == 'JAIME:' or t[0:7] == 'CERSEI:'):\n",
    "#       if t[0:7] == 'TYRION:' or t[0:4] == 'JON:' or t[0:5] == 'ARYA:' or t[0:6] == 'JAIME:' or t[0:7] == 'CERSEI:':\n",
    "            print(t+'\\n')"
   ]
  },
  {
   "cell_type": "code",
   "execution_count": null,
   "metadata": {},
   "outputs": [],
   "source": []
  },
  {
   "cell_type": "code",
   "execution_count": null,
   "metadata": {},
   "outputs": [],
   "source": []
  }
 ],
 "metadata": {
  "kernelspec": {
   "display_name": "Python 3",
   "language": "python",
   "name": "python3"
  },
  "language_info": {
   "codemirror_mode": {
    "name": "ipython",
    "version": 3
   },
   "file_extension": ".py",
   "mimetype": "text/x-python",
   "name": "python",
   "nbconvert_exporter": "python",
   "pygments_lexer": "ipython3",
   "version": "3.6.5"
  }
 },
 "nbformat": 4,
 "nbformat_minor": 2
}
